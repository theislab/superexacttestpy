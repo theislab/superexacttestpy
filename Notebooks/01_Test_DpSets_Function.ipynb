{
 "cells": [
  {
   "cell_type": "code",
   "execution_count": 1,
   "metadata": {},
   "outputs": [],
   "source": [
    "%load_ext autoreload\n",
    "%autoreload 2"
   ]
  },
  {
   "cell_type": "code",
   "execution_count": 2,
   "metadata": {},
   "outputs": [],
   "source": [
    "import superexacttestpy as stest\n",
    "import math"
   ]
  },
  {
   "cell_type": "code",
   "execution_count": 3,
   "metadata": {},
   "outputs": [],
   "source": [
    "#Data in the Data folder of the SuperExtractTest Git \n",
    "CB = ['KCTD10', 'CHURC1', 'C10orf85', 'AMFR', 'INPP5E', 'RAB3IP', 'PPAPDC1A', 'HMBOX1', 'PEX6', 'WDR41', 'RPS23', 'SCG3', 'GOLGB1', 'ABHD12', 'BRWD1', 'TIMM10', 'SEZ6L2', 'GSTM3', 'DSCC1', 'C17orf97', 'CBS', 'MYOM2', 'PPARG', 'NAPRT1', 'FAM149A', 'C17orf75', 'EIF5A', 'NCAPD2', 'SURF6', 'CADM1', 'WDR48', 'CECR1', 'TPM2', 'CDK5RAP2', 'C9orf156', 'WDR55', 'SLC44A3', 'PPIL3', 'NPM1', 'MAP3K2', 'ZNF589', 'KCNK1', 'C19orf30', 'MTRR', 'TOR1B', 'MRPL43', 'TSPAN15', 'NSUN2', 'C19orf12', 'PHACTR4', 'N4BP2L2', 'CCDC23', 'ATPIF1', 'SLC2A8', 'EPHX2', 'POLE', 'TMEM80', 'C15orf57', 'CHST7', 'ZNF266', 'CPEB4', 'SQSTM1', 'GSTM1', 'RNF167', 'FAM119B', 'CDS2', 'TAP2', 'NSFL1C', 'LRWD1', 'NR1D2', 'LY6G5C', 'DNAJC15', 'ZNF323', 'VRK3', 'CCDC88B', 'CARD8', 'MAPT', 'BDKRB2', 'RAB24', 'LIG3', 'IL17RB', 'B3GALT4', 'CCBL2', 'ZNF418', 'ABHD10', 'SURF1', 'NMRAL1', 'CMTM7', 'ADAL', 'EBPL', 'BMP4', 'SLC46A2', 'SLC25A34', 'PDCD2', 'DCAF4', 'TBC1D2', 'C21orf57', 'PLXDC1', 'TPCN2', 'NUDT2', 'TCFL5', 'MCTP1', 'CYP4V2', 'FECH', 'FTSJ3', 'STEAP2', 'ZNF84', 'FEZ2', 'COLEC11', 'CD151', 'PFAS', 'COX4NB', 'STAG3L2', 'VAMP1', 'DECR2', 'ATRIP', 'MTHFR', 'RCCD1', 'ZNF593', 'ALOX5', 'FN3KRP', 'SPAG16', 'CNTNAP4', 'DAAM1', 'GAS8', 'ACO1', 'DGCR8', 'SALL2', 'CA9', 'BPHL', 'KCTD21', 'SLC16A9', 'FAM46A', 'MAPK1IP1L', 'C9orf95', 'RPUSD4', 'ZFYVE19', 'DPYSL4', 'EXOC3', 'HSD17B12', 'ALDH16A1', 'VAMP4', 'DHX36', 'SMG7', 'TBC1D7', 'CDRT4', 'CENPJ']\n",
    "FC = ['CHURC1', 'KCTD10', 'AMFR', 'SCG3', 'INPP5E', 'RPS23', 'NAPRT1', 'PEX6', 'C9orf156', 'TIMM10', 'WDR41', 'CPEB4', 'ABHD12', 'RAB3IP', 'BRWD1', 'N4BP2L2', 'SMG7', 'SEZ6L2', 'CADM1', 'C17orf75', 'NSFL1C', 'GOLGB1', 'TRIM69', 'HMBOX1', 'TCFL5', 'THNSL2', 'EIF5A', 'GPNMB', 'SURF6', 'MRPL43', 'LRRC37A', 'PPIL3', 'CAMKK2', 'TRPV2', 'ATPIF1', 'LCN15', 'SURF1', 'WDR48', 'C9orf95', 'NSUN2', 'VRK3', 'C19orf30', 'KCNK1', 'FECH', 'POLE', 'B3GALTL', 'STAT6', 'C19orf12', 'DNAJC15', 'NR1D2', 'TIPRL', 'MRI1', 'RNF167', 'GSTM1', 'CCDC23', 'MTRR', 'CRIPT', 'HYAL3', 'GSTM3', 'GSTM5', 'NPM1', 'BCR', 'GNB1L', 'SLC2A8', 'TMEM8A', 'FAM119B', 'TRPC4AP', 'MINK1', 'FN3KRP', 'CBS', 'CCBL2', 'ZNF589', 'C2orf43', 'ZNF323', 'FRMD3', 'MAP3K2', 'SRR', 'CLUAP1', 'AKAP8', 'NUDT14', 'DHRS11', 'ATP5G1', 'LMF1', 'ADAL', 'NDUFB1', 'LIG3', 'DAAM1', 'FAM149A', 'PDCD2', 'WDR55', 'UROS', 'GNA15', 'C2orf82', 'ZNF419', 'C17orf97', 'RABEP1', 'ENTPD4', 'BPHL', 'SFTPD', 'SQSTM1', 'MYOM2', 'HSD17B12', 'UNQ1887', 'CENPV', 'BXDC1', 'COQ5', 'VAMP4', 'EPHA3', 'CNTNAP4', 'C16orf88', 'EIF2A', 'DGCR8', 'GSTO2', 'PLXDC1', 'TAP2', 'TMEM80', 'ZNF593', 'MGMT', 'C11orf46', 'DHRS1', 'CCNO', 'RRP7A', 'SUPT3H', 'MAPT', 'ALKBH3', 'C6orf162', 'LIAS', 'PSMD3', 'TOR1B', 'RNASEL', 'LRRC2', 'CD59', 'SPATA5L1', 'WDR73', 'IMPAD1', 'TBCD', 'DTNA', 'PISD', 'RWDD2B', 'C8orf40', 'SCARA3', 'NIT2', 'APOD', 'SLC25A26', 'SFXN4', 'PCM1', 'MTAP', 'ADAD2', 'CEP192', 'C17orf48', 'ASPDH', 'DDX55', 'FKBP11', 'TESC', 'ARHGAP25', 'SIVA1', 'GUF1', 'SHMT1', 'TPCN2', 'AKAP10', 'PITRM1', 'SCCPDH', 'CPLX2', 'ZNF721']\n",
    "TC = ['CHURC1', 'SCG3', 'AMFR', 'KCTD10', 'INPP5E', 'PIGP', 'RPS23', 'PEX6', 'TIMM10', 'NSFL1C', 'C9orf156', 'NAPRT1', 'WDR41', 'ABHD12', 'RAB3IP', 'BRWD1', 'GOLGB1', 'ATPIF1', 'C17orf75', 'CPEB4', 'N4BP2L2', 'MTRR', 'SEZ6L2', 'HMBOX1', 'THNSL2', 'SMG7', 'C9orf95', 'WDR48', 'PPIL3', 'RNF167', 'CCBL2', 'EIF5A', 'CAMKK2', 'VRK3', 'LCN15', 'FN3KRP', 'TRPV2', 'NR1D2', 'NSUN2', 'ZNF589', 'MRPL43', 'CCDC23', 'TCFL5', 'CADM1', 'C17orf97', 'SURF1', 'SLC2A8', 'B3GALTL', 'EPHA3', 'POLE', 'MAP3K2', 'KCNK1', 'TIPRL', 'GSTM5', 'TAP2', 'GNB1L', 'ZNF419', 'CNTNAP4', 'ADAL', 'CENPV', 'NPM1', 'CLUAP1', 'ACP6', 'UNQ1887', 'PDCD2', 'MCTP1', 'LIAS', 'VAMP4', 'STAG3L2', 'WDR55', 'ZNF323', 'DNAJC15', 'TMEM80', 'CRIPT', 'TM7SF3', 'GSTM3', 'CBS', 'FECH', 'C8orf40', 'FAM119B', 'RCCD1', 'FRMD3', 'MRI1', 'C2orf43', 'ENTPD4', 'SRR', 'SQSTM1', 'TRPC4AP', 'BPHL', 'HPR', 'RNASEL', 'C19orf12', 'BCR', 'CDK5RAP2', 'EID1', 'CEP192', 'MYOM2', 'EIF2A', 'PITRM1', 'NUDT14', 'DFFB', 'EFHC1', 'STAT6', 'AKAP8', 'RRP7A', 'C6orf64', 'DTNA', 'DGCR8', 'NUP50', 'TMEM8A', 'WDYHV1', 'PIGN', 'HYAL3', 'ACCS', 'TRAPPC2L', 'CLEC11A', 'CCDC84', 'DHRS11', 'SPATA5L1', 'FAM149A', 'LIG3', 'NCAPD2', 'AQP11', 'ZNF514', 'ZNF721', 'COQ5', 'CPLX2', 'C2orf82', 'AGA', 'TPCN2', 'CISD2', 'MCCC1', 'RYBP', 'RRAGD', 'ALG8', 'C6orf162', 'EIF2B2']\n",
    "PONS = ['CHURC1', 'KCTD10', 'PEX6', 'HMBOX1', 'TIMM10', 'GOLGB1', 'MYOM2', 'THNSL2', 'PIGP', 'C17orf75', 'INPP5E', 'NAPRT1', 'AMFR', 'ABHD12', 'ATPIF1', 'NSUN2', 'WDR41', 'ACP6', 'BRWD1', 'WDR48', 'RAB3IP', 'CPEB4', 'RPS23', 'SPATA20', 'SCG3', 'SURF1', 'NSFL1C', 'TRPC4AP', 'CBS', 'NR1D2', 'CCDC23', 'PPIL3', 'PDE1A', 'ZNF589', 'TCFL5', 'VAMP4', 'SMG7', 'STMN4', 'TMEM149', 'EIF5A', 'C16orf88', 'SEZ6L2', 'B3GALTL', 'WDR55', 'CADM1', 'CENPV', 'C5orf35', 'MTRR', 'C2orf43', 'KCNK1', 'SLC2A8', 'LIAS', 'C9orf156', 'GSTM3', 'POLR2L', 'DDX55', 'ZNF323', 'CEP192', 'N4BP2L2', 'PI16', 'RNF167', 'FAM82B', 'CCBL2', 'FECH', 'CLUAP1', 'SURF6', 'TTC23', 'DAAM1', 'ATP1B1', 'SQSTM1', 'DDX51', 'TYW1', 'CHST7', 'VRK3', 'DGCR8', 'C9orf95', 'MUL1', 'TPCN2', 'MAP3K2', 'PPIE', 'FN3KRP', 'TOR1B', 'FAM119B', 'CNTNAP4', 'KLHDC4', 'OXTR', 'TMEM80', 'ZNF593', 'SPTBN1', 'NPM1', 'ACCS', 'DTNA', 'ZNF721', 'RRP7A', 'SLC24A2', 'AATF', 'CD151', 'UBR7', 'SORCS2', 'C6orf64', 'C2orf82']"
   ]
  },
  {
   "cell_type": "code",
   "execution_count": 4,
   "metadata": {},
   "outputs": [],
   "source": [
    "# Vars \n",
    "data=[CB,FC,TC,PONS]\n",
    "total = 18196"
   ]
  },
  {
   "cell_type": "code",
   "execution_count": 5,
   "metadata": {},
   "outputs": [
    {
     "name": "stdout",
     "output_type": "stream",
     "text": [
      "2.3025850929940455\n",
      "True\n"
     ]
    }
   ],
   "source": [
    "binom=stest.tl.logChoose(5,2) # Number of combinaison of 2 elems in 5 total elems  \n",
    "print(binom)\n",
    "print(math.comb(5,2)==round(math.exp(binom))) ## Just to verify we get the same results. "
   ]
  },
  {
   "cell_type": "code",
   "execution_count": 6,
   "metadata": {},
   "outputs": [
    {
     "name": "stdout",
     "output_type": "stream",
     "text": [
      "The probability to get 1 white ball out of 1 draws from an urn with 1 white balls and 1 black ball is 0.5\n"
     ]
    }
   ],
   "source": [
    "p=stest.tl.dhyper(1,1,1,1,False)\n",
    "print(f\"The probability to get 1 white ball out of 1 draws from an urn with 1 white balls and 1 black ball is {p}\")"
   ]
  },
  {
   "cell_type": "code",
   "execution_count": 7,
   "metadata": {},
   "outputs": [
    {
     "data": {
      "text/plain": [
       "0.5150545771561766"
      ]
     },
     "execution_count": 7,
     "metadata": {},
     "output_type": "execute_result"
    }
   ],
   "source": [
    "stest.tl.dmvHyper2(x=0,nL=2,L=[100,120],n=total,p=0.0,logp=False)\n",
    "#R results  : 0.5150546 So the dhyper function works good"
   ]
  },
  {
   "cell_type": "code",
   "execution_count": 8,
   "metadata": {},
   "outputs": [
    {
     "name": "stdout",
     "output_type": "stream",
     "text": [
      "1.0\n",
      "0.03710810200733476\n",
      "5.254316379189532e-07\n",
      "1.5575981183214704e-33\n"
     ]
    }
   ],
   "source": [
    "p_any_common_elem = stest.tl.dmvHyper2(x=0,nL=len(data),L=stest.tl.len_data(data),n=total,p=0.0,logp=False)\n",
    "print(p_any_common_elem)\n",
    "\n",
    "p_one_common_elem = stest.tl.dmvHyper2(x=1,nL=len(data),L=stest.tl.len_data(data),n=total,p=0.0,logp=False)\n",
    "print(p_one_common_elem)\n",
    "\n",
    "p_three_common_elem = stest.tl.dmvHyper2(x=3,nL=len(data),L=stest.tl.len_data(data),n=total,p=0.0,logp=False)\n",
    "print(p_three_common_elem)\n",
    "\n",
    "p_12_common_elem = stest.tl.dmvHyper2(x=12,nL=len(data),L=stest.tl.len_data(data),n=total,p=0.0,logp=False)\n",
    "print(p_12_common_elem)"
   ]
  },
  {
   "cell_type": "markdown",
   "metadata": {},
   "source": [
    "In the R package :\n",
    "\n"
   ]
  },
  {
   "cell_type": "markdown",
   "metadata": {},
   "source": [
    "Proba to share any elements on the 4 eatch sets is : 0.9999446, we get 1 "
   ]
  },
  {
   "cell_type": "markdown",
   "metadata": {},
   "source": [
    "Proba to share 1 elements on the 4 eatch sets is : 5.53e-5, we get 0,027 "
   ]
  },
  {
   "cell_type": "markdown",
   "metadata": {},
   "source": [
    "Proba to share 3 elements on the 4 eatch sets is : 2.58e-14, we get 3.70578e-07"
   ]
  },
  {
   "cell_type": "markdown",
   "metadata": {},
   "source": [
    "Proba to share 12 elements on the 4 eatch sets is : 2,25e-61, we get 1.0418e-33"
   ]
  },
  {
   "cell_type": "code",
   "execution_count": 9,
   "metadata": {},
   "outputs": [
    {
     "name": "stdout",
     "output_type": "stream",
     "text": [
      "[1.0, 0.03710810200733476, 0.00017166183068338065, 5.254316379189532e-07, 1.1937480567822085e-09, 2.1423726282010825e-12, 3.157631658146407e-15, 3.9251923776776106e-18, 4.195557494592588e-21, 3.913235673231424e-24, 3.2220479237782843e-27, 2.3640123292141944e-30, 1.5575981183214704e-33, 9.276400963494773e-37, 5.0215196626961796e-40, 2.4825793993128943e-43, 1.1256272732797186e-46, 4.697843762601846e-50, 1.810583675888213e-53, 6.462516579178874e-57, 2.14171268840515e-60, 6.605349321326692e-64, 1.899784901728102e-67, 5.1050415294975266e-71, 1.2838556312798584e-74, 3.0263813503052346e-78, 6.696229693870782e-82, 1.392488386592671e-85, 2.724676018847537e-89, 5.021860657822479e-93, 8.727030506160719e-97, 1.4312339113218736e-100, 2.216945984840825e-104, 3.24585161153595e-108, 4.495034036205586e-112, 5.891759013520323e-116, 7.313387795196187e-120, 8.601745711503023e-124, 9.590957348341151e-128, 1.014236597309634e-131, 1.0176441595110302e-135, 9.691549551237739e-140, 8.763492003860477e-144, 7.526267459109175e-148, 6.140713391180217e-152, 4.761021570071615e-156, 3.508462342017095e-160, 2.457821881358019e-164, 1.6370854412447128e-168, 1.0369060368810694e-172, 6.246030186892764e-177, 3.5785326575722345e-181, 1.9501686536620914e-185, 1.0109424266474738e-189, 4.985164820907362e-194, 2.338484403199397e-198, 1.0434838570985483e-202, 4.429139378502899e-207, 1.7881878165691463e-211, 6.866521714170848e-216, 2.507564165272073e-220, 8.70788525737787e-225, 2.875177578882548e-229, 9.024977449494082e-234, 2.6926966187299537e-238, 7.635037539261814e-243, 2.0569901459101795e-247, 5.264505190145441e-252, 1.279635859762514e-256, 2.953316689015862e-261, 6.470110542907741e-266, 1.345137407934421e-270, 2.6530282428953286e-275, 4.962448797307723e-280, 8.799932237882934e-285, 1.4788811070605078e-289, 2.3544555845997796e-294, 3.5495610274474573e-299, 5.065239504654667e-304, 6.838663556285765e-309, 8.7313877703e-314, 1.053723e-318, 1.5e-323, inf, inf, inf, inf, inf, inf, inf, inf, inf, inf, inf, inf, inf, inf, inf, inf, inf, inf]\n"
     ]
    }
   ],
   "source": [
    "a = [stest.tl.DpSets(i,data,total,False) for i in range(min(stest.tl.len_data(data)))]\n",
    "print(a)\n",
    "\n",
    "# I should find : \n",
    "#       [1]  9.999446e-01  5.536713e-05  1.487462e-09  2.584596e-14  3.266929e-19  3.203379e-24\n",
    "#       [7]  2.537574e-29  1.669915e-34  9.317026e-40  4.476026e-45  1.874211e-50  6.907188e-56\n",
    "#      [13]  2.258521e-61  6.596148e-67  1.730423e-72  4.097358e-78  8.793254e-84  1.716552e-89\n",
    "#      [19]  3.057708e-95 4.983934e-101 7.451607e-107 1.024173e-112 1.296529e-118 1.514351e-124\n",
    "#      [25] 1.634467e-130 1.632415e-136 1.510523e-142 1.296427e-148 1.033055e-154 7.649616e-161\n",
    "#      [31] 5.267943e-167 3.376250e-173 2.015080e-179 1.120610e-185 5.809401e-192 2.808707e-198\n",
    "#      [37] 1.266884e-204 5.332802e-211 2.095428e-217 7.687359e-224 2.633520e-230 8.425576e-237\n",
    "#      [43] 2.517649e-243 7.026430e-250 1.831520e-256 4.458637e-263 1.013598e-269 2.151522e-276\n",
    "#      [49] 4.263524e-283 7.885797e-290 1.361041e-296 2.191414e-303 3.290550e-310 4.606280e-317\n",
    "#      [55] 4.940656e-324  0.000000e+00  0.000000e+00  0.000000e+00  0.000000e+00  0.000000e+00\n",
    "#      [61]  0.000000e+00  0.000000e+00  0.000000e+00  0.000000e+00  0.000000e+00  0.000000e+00\n",
    "#      [67]  0.000000e+00  0.000000e+00  0.000000e+00  0.000000e+00  0.000000e+00  0.000000e+00\n",
    "#      [73]  0.000000e+00  0.000000e+00  0.000000e+00  0.000000e+00  0.000000e+00  0.000000e+00\n",
    "#      [79]  0.000000e+00  0.000000e+00  0.000000e+00  0.000000e+00  0.000000e+00  0.000000e+00\n",
    "#      [85]  0.000000e+00  0.000000e+00  0.000000e+00  0.000000e+00  0.000000e+00  0.000000e+00\n",
    "#      [91]  0.000000e+00  0.000000e+00  0.000000e+00  0.000000e+00  0.000000e+00  0.000000e+00\n",
    "#      [97]  0.000000e+00  0.000000e+00  0.000000e+00  0.000000e+00  0.000000e+00  0.000000e+00 "
   ]
  }
 ],
 "metadata": {
  "interpreter": {
   "hash": "64cdbf2ddcb9cd73e43d780a5c38adc9c5cb93dd1a925db9d35733ec03fb2329"
  },
  "kernelspec": {
   "display_name": "Python 3.9.12 ('base')",
   "language": "python",
   "name": "python3"
  },
  "language_info": {
   "codemirror_mode": {
    "name": "ipython",
    "version": 3
   },
   "file_extension": ".py",
   "mimetype": "text/x-python",
   "name": "python",
   "nbconvert_exporter": "python",
   "pygments_lexer": "ipython3",
   "version": "3.9.12"
  },
  "orig_nbformat": 4
 },
 "nbformat": 4,
 "nbformat_minor": 2
}
