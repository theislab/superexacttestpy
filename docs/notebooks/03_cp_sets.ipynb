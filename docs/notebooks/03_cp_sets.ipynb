{
 "cells": [
  {
   "cell_type": "markdown",
   "metadata": {},
   "source": [
    "# The cp_sets function "
   ]
  },
  {
   "cell_type": "markdown",
   "metadata": {},
   "source": [
    "cp-sets function is used to compute the distribution function of multi genetic sets intersection"
   ]
  },
  {
   "cell_type": "code",
   "execution_count": 1,
   "metadata": {},
   "outputs": [],
   "source": [
    "%load_ext autoreload\n",
    "%autoreload 2"
   ]
  },
  {
   "cell_type": "code",
   "execution_count": 2,
   "metadata": {},
   "outputs": [],
   "source": [
    "import superexacttestpy as stest\n",
    "import math"
   ]
  },
  {
   "cell_type": "markdown",
   "metadata": {},
   "source": [
    "## Import data"
   ]
  },
  {
   "cell_type": "code",
   "execution_count": 3,
   "metadata": {},
   "outputs": [],
   "source": [
    "CB = ['KCTD10', 'CHURC1', 'C10orf85', 'AMFR', 'INPP5E', 'RAB3IP', 'PPAPDC1A', 'HMBOX1', 'PEX6', 'WDR41', 'RPS23', 'SCG3', 'GOLGB1', 'ABHD12', 'BRWD1', 'TIMM10', 'SEZ6L2', 'GSTM3', 'DSCC1', 'C17orf97', 'CBS', 'MYOM2', 'PPARG', 'NAPRT1', 'FAM149A', 'C17orf75', 'EIF5A', 'NCAPD2', 'SURF6', 'CADM1', 'WDR48', 'CECR1', 'TPM2', 'CDK5RAP2', 'C9orf156', 'WDR55', 'SLC44A3', 'PPIL3', 'NPM1', 'MAP3K2', 'ZNF589', 'KCNK1', 'C19orf30', 'MTRR', 'TOR1B', 'MRPL43', 'TSPAN15', 'NSUN2', 'C19orf12', 'PHACTR4', 'N4BP2L2', 'CCDC23', 'ATPIF1', 'SLC2A8', 'EPHX2', 'POLE', 'TMEM80', 'C15orf57', 'CHST7', 'ZNF266', 'CPEB4', 'SQSTM1', 'GSTM1', 'RNF167', 'FAM119B', 'CDS2', 'TAP2', 'NSFL1C', 'LRWD1', 'NR1D2', 'LY6G5C', 'DNAJC15', 'ZNF323', 'VRK3', 'CCDC88B', 'CARD8', 'MAPT', 'BDKRB2', 'RAB24', 'LIG3', 'IL17RB', 'B3GALT4', 'CCBL2', 'ZNF418', 'ABHD10', 'SURF1', 'NMRAL1', 'CMTM7', 'ADAL', 'EBPL', 'BMP4', 'SLC46A2', 'SLC25A34', 'PDCD2', 'DCAF4', 'TBC1D2', 'C21orf57', 'PLXDC1', 'TPCN2', 'NUDT2', 'TCFL5', 'MCTP1', 'CYP4V2', 'FECH', 'FTSJ3', 'STEAP2', 'ZNF84', 'FEZ2', 'COLEC11', 'CD151', 'PFAS', 'COX4NB', 'STAG3L2', 'VAMP1', 'DECR2', 'ATRIP', 'MTHFR', 'RCCD1', 'ZNF593', 'ALOX5', 'FN3KRP', 'SPAG16', 'CNTNAP4', 'DAAM1', 'GAS8', 'ACO1', 'DGCR8', 'SALL2', 'CA9', 'BPHL', 'KCTD21', 'SLC16A9', 'FAM46A', 'MAPK1IP1L', 'C9orf95', 'RPUSD4', 'ZFYVE19', 'DPYSL4', 'EXOC3', 'HSD17B12', 'ALDH16A1', 'VAMP4', 'DHX36', 'SMG7', 'TBC1D7', 'CDRT4', 'CENPJ']\n",
    "FC = ['CHURC1', 'KCTD10', 'AMFR', 'SCG3', 'INPP5E', 'RPS23', 'NAPRT1', 'PEX6', 'C9orf156', 'TIMM10', 'WDR41', 'CPEB4', 'ABHD12', 'RAB3IP', 'BRWD1', 'N4BP2L2', 'SMG7', 'SEZ6L2', 'CADM1', 'C17orf75', 'NSFL1C', 'GOLGB1', 'TRIM69', 'HMBOX1', 'TCFL5', 'THNSL2', 'EIF5A', 'GPNMB', 'SURF6', 'MRPL43', 'LRRC37A', 'PPIL3', 'CAMKK2', 'TRPV2', 'ATPIF1', 'LCN15', 'SURF1', 'WDR48', 'C9orf95', 'NSUN2', 'VRK3', 'C19orf30', 'KCNK1', 'FECH', 'POLE', 'B3GALTL', 'STAT6', 'C19orf12', 'DNAJC15', 'NR1D2', 'TIPRL', 'MRI1', 'RNF167', 'GSTM1', 'CCDC23', 'MTRR', 'CRIPT', 'HYAL3', 'GSTM3', 'GSTM5', 'NPM1', 'BCR', 'GNB1L', 'SLC2A8', 'TMEM8A', 'FAM119B', 'TRPC4AP', 'MINK1', 'FN3KRP', 'CBS', 'CCBL2', 'ZNF589', 'C2orf43', 'ZNF323', 'FRMD3', 'MAP3K2', 'SRR', 'CLUAP1', 'AKAP8', 'NUDT14', 'DHRS11', 'ATP5G1', 'LMF1', 'ADAL', 'NDUFB1', 'LIG3', 'DAAM1', 'FAM149A', 'PDCD2', 'WDR55', 'UROS', 'GNA15', 'C2orf82', 'ZNF419', 'C17orf97', 'RABEP1', 'ENTPD4', 'BPHL', 'SFTPD', 'SQSTM1', 'MYOM2', 'HSD17B12', 'UNQ1887', 'CENPV', 'BXDC1', 'COQ5', 'VAMP4', 'EPHA3', 'CNTNAP4', 'C16orf88', 'EIF2A', 'DGCR8', 'GSTO2', 'PLXDC1', 'TAP2', 'TMEM80', 'ZNF593', 'MGMT', 'C11orf46', 'DHRS1', 'CCNO', 'RRP7A', 'SUPT3H', 'MAPT', 'ALKBH3', 'C6orf162', 'LIAS', 'PSMD3', 'TOR1B', 'RNASEL', 'LRRC2', 'CD59', 'SPATA5L1', 'WDR73', 'IMPAD1', 'TBCD', 'DTNA', 'PISD', 'RWDD2B', 'C8orf40', 'SCARA3', 'NIT2', 'APOD', 'SLC25A26', 'SFXN4', 'PCM1', 'MTAP', 'ADAD2', 'CEP192', 'C17orf48', 'ASPDH', 'DDX55', 'FKBP11', 'TESC', 'ARHGAP25', 'SIVA1', 'GUF1', 'SHMT1', 'TPCN2', 'AKAP10', 'PITRM1', 'SCCPDH', 'CPLX2', 'ZNF721']\n",
    "TC = ['CHURC1', 'SCG3', 'AMFR', 'KCTD10', 'INPP5E', 'PIGP', 'RPS23', 'PEX6', 'TIMM10', 'NSFL1C', 'C9orf156', 'NAPRT1', 'WDR41', 'ABHD12', 'RAB3IP', 'BRWD1', 'GOLGB1', 'ATPIF1', 'C17orf75', 'CPEB4', 'N4BP2L2', 'MTRR', 'SEZ6L2', 'HMBOX1', 'THNSL2', 'SMG7', 'C9orf95', 'WDR48', 'PPIL3', 'RNF167', 'CCBL2', 'EIF5A', 'CAMKK2', 'VRK3', 'LCN15', 'FN3KRP', 'TRPV2', 'NR1D2', 'NSUN2', 'ZNF589', 'MRPL43', 'CCDC23', 'TCFL5', 'CADM1', 'C17orf97', 'SURF1', 'SLC2A8', 'B3GALTL', 'EPHA3', 'POLE', 'MAP3K2', 'KCNK1', 'TIPRL', 'GSTM5', 'TAP2', 'GNB1L', 'ZNF419', 'CNTNAP4', 'ADAL', 'CENPV', 'NPM1', 'CLUAP1', 'ACP6', 'UNQ1887', 'PDCD2', 'MCTP1', 'LIAS', 'VAMP4', 'STAG3L2', 'WDR55', 'ZNF323', 'DNAJC15', 'TMEM80', 'CRIPT', 'TM7SF3', 'GSTM3', 'CBS', 'FECH', 'C8orf40', 'FAM119B', 'RCCD1', 'FRMD3', 'MRI1', 'C2orf43', 'ENTPD4', 'SRR', 'SQSTM1', 'TRPC4AP', 'BPHL', 'HPR', 'RNASEL', 'C19orf12', 'BCR', 'CDK5RAP2', 'EID1', 'CEP192', 'MYOM2', 'EIF2A', 'PITRM1', 'NUDT14', 'DFFB', 'EFHC1', 'STAT6', 'AKAP8', 'RRP7A', 'C6orf64', 'DTNA', 'DGCR8', 'NUP50', 'TMEM8A', 'WDYHV1', 'PIGN', 'HYAL3', 'ACCS', 'TRAPPC2L', 'CLEC11A', 'CCDC84', 'DHRS11', 'SPATA5L1', 'FAM149A', 'LIG3', 'NCAPD2', 'AQP11', 'ZNF514', 'ZNF721', 'COQ5', 'CPLX2', 'C2orf82', 'AGA', 'TPCN2', 'CISD2', 'MCCC1', 'RYBP', 'RRAGD', 'ALG8', 'C6orf162', 'EIF2B2']\n",
    "PONS = ['CHURC1', 'KCTD10', 'PEX6', 'HMBOX1', 'TIMM10', 'GOLGB1', 'MYOM2', 'THNSL2', 'PIGP', 'C17orf75', 'INPP5E', 'NAPRT1', 'AMFR', 'ABHD12', 'ATPIF1', 'NSUN2', 'WDR41', 'ACP6', 'BRWD1', 'WDR48', 'RAB3IP', 'CPEB4', 'RPS23', 'SPATA20', 'SCG3', 'SURF1', 'NSFL1C', 'TRPC4AP', 'CBS', 'NR1D2', 'CCDC23', 'PPIL3', 'PDE1A', 'ZNF589', 'TCFL5', 'VAMP4', 'SMG7', 'STMN4', 'TMEM149', 'EIF5A', 'C16orf88', 'SEZ6L2', 'B3GALTL', 'WDR55', 'CADM1', 'CENPV', 'C5orf35', 'MTRR', 'C2orf43', 'KCNK1', 'SLC2A8', 'LIAS', 'C9orf156', 'GSTM3', 'POLR2L', 'DDX55', 'ZNF323', 'CEP192', 'N4BP2L2', 'PI16', 'RNF167', 'FAM82B', 'CCBL2', 'FECH', 'CLUAP1', 'SURF6', 'TTC23', 'DAAM1', 'ATP1B1', 'SQSTM1', 'DDX51', 'TYW1', 'CHST7', 'VRK3', 'DGCR8', 'C9orf95', 'MUL1', 'TPCN2', 'MAP3K2', 'PPIE', 'FN3KRP', 'TOR1B', 'FAM119B', 'CNTNAP4', 'KLHDC4', 'OXTR', 'TMEM80', 'ZNF593', 'SPTBN1', 'NPM1', 'ACCS', 'DTNA', 'ZNF721', 'RRP7A', 'SLC24A2', 'AATF', 'CD151', 'UBR7', 'SORCS2', 'C6orf64', 'C2orf82']\n",
    "data = [CB,FC,TC,PONS]\n",
    "total = 18196"
   ]
  },
  {
   "cell_type": "markdown",
   "metadata": {},
   "source": [
    "## Functions "
   ]
  },
  {
   "cell_type": "markdown",
   "metadata": {},
   "source": [
    "### dmv_hyper_logval"
   ]
  },
  {
   "cell_type": "code",
   "execution_count": 4,
   "metadata": {},
   "outputs": [
    {
     "data": {
      "text/plain": [
       "0.9920574493053751"
      ]
     },
     "execution_count": 4,
     "metadata": {},
     "output_type": "execute_result"
    }
   ],
   "source": [
    "stest.tl.dmv_hyper_logval(0,4,[120,110,160,200],total,[math.log(i) for i in range(1,total+1)])"
   ]
  },
  {
   "cell_type": "markdown",
   "metadata": {},
   "source": [
    "### cpsets_sim"
   ]
  },
  {
   "cell_type": "code",
   "execution_count": 5,
   "metadata": {},
   "outputs": [
    {
     "data": {
      "text/plain": [
       "0.00025"
      ]
     },
     "execution_count": 5,
     "metadata": {},
     "output_type": "execute_result"
    }
   ],
   "source": [
    "stest.tl.cpsets_sim(len(stest.tl.intersect(data))-1,stest.tl.len_data(data) ,total,number_sim=100000)"
   ]
  },
  {
   "cell_type": "markdown",
   "metadata": {},
   "source": [
    "Allow to simulate the distribution of the intersection of multiple sets"
   ]
  },
  {
   "cell_type": "markdown",
   "metadata": {},
   "source": [
    "### cpsets"
   ]
  },
  {
   "cell_type": "code",
   "execution_count": 6,
   "metadata": {},
   "outputs": [
    {
     "data": {
      "text/plain": [
       "[0.9926722508362695,\n",
       " 8.044539270566737e-10,\n",
       " 1.0256980782601483e-14,\n",
       " 9.485269218408746e-20,\n",
       " 6.784943047926986e-25,\n",
       " 3.909584578626062e-30,\n",
       " 1.866018605628311e-35,\n",
       " 7.52884020032813e-41,\n",
       " 2.6077872325569804e-46,\n",
       " 7.848830270836463e-52]"
      ]
     },
     "execution_count": 6,
     "metadata": {},
     "output_type": "execute_result"
    }
   ],
   "source": [
    "[stest.tl.cpsets(i,data,total) for i in range(10)]"
   ]
  },
  {
   "cell_type": "markdown",
   "metadata": {},
   "source": [
    "Distribution for intersection of multiple sets in range 0 to 10 "
   ]
  }
 ],
 "metadata": {
  "kernelspec": {
   "display_name": "Python 3.6.8 64-bit",
   "language": "python",
   "name": "python3"
  },
  "language_info": {
   "codemirror_mode": {
    "name": "ipython",
    "version": 3
   },
   "file_extension": ".py",
   "mimetype": "text/x-python",
   "name": "python",
   "nbconvert_exporter": "python",
   "pygments_lexer": "ipython3",
   "version": "3.6.8"
  },
  "orig_nbformat": 4,
  "vscode": {
   "interpreter": {
    "hash": "916dbcbb3f70747c44a77c7bcd40155683ae19c65e1c03b4aa3499c5328201f1"
   }
  }
 },
 "nbformat": 4,
 "nbformat_minor": 2
}
